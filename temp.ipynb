{
 "cells": [
  {
   "cell_type": "code",
   "execution_count": 27,
   "metadata": {},
   "outputs": [
    {
     "name": "stdout",
     "output_type": "stream",
     "text": [
      "[ 4271  9983  3233 12860 12974  6178  1983  6204  2025  7460]\n"
     ]
    }
   ],
   "source": [
    "import pandas as pd\n",
    "import obspy as op\n",
    "import matplotlib.pyplot as plt\n",
    "import numpy as np\n",
    "\n"
   ]
  },
  {
   "cell_type": "code",
   "execution_count": 1,
   "metadata": {},
   "outputs": [
    {
     "ename": "NameError",
     "evalue": "name 'pd' is not defined",
     "output_type": "error",
     "traceback": [
      "\u001b[0;31m---------------------------------------------------------------------------\u001b[0m",
      "\u001b[0;31mNameError\u001b[0m                                 Traceback (most recent call last)",
      "Cell \u001b[0;32mIn[1], line 1\u001b[0m\n\u001b[0;32m----> 1\u001b[0m file \u001b[38;5;241m=\u001b[39m \u001b[43mpd\u001b[49m\u001b[38;5;241m.\u001b[39mread_csv(\u001b[38;5;124m\"\u001b[39m\u001b[38;5;124mDATA/waveforms_list_pred_org.csv\u001b[39m\u001b[38;5;124m\"\u001b[39m)\n\u001b[1;32m      2\u001b[0m rand_gen \u001b[38;5;241m=\u001b[39m np\u001b[38;5;241m.\u001b[39mrandom\u001b[38;5;241m.\u001b[39mrandint(\u001b[38;5;241m0\u001b[39m, \u001b[38;5;28mlen\u001b[39m(file), \u001b[38;5;241m10\u001b[39m)\n\u001b[1;32m      3\u001b[0m \u001b[38;5;28mprint\u001b[39m(rand_gen)\n",
      "\u001b[0;31mNameError\u001b[0m: name 'pd' is not defined"
     ]
    }
   ],
   "source": [
    "file = pd.read_csv(\"DATA/waveforms_list_pred_org.csv\")\n",
    "rand_gen = np.random.randint(0, len(file), 10)\n",
    "print(rand_gen)\n",
    "\n",
    "good = 0\n",
    "bad = 0\n",
    "max = 5\n",
    "def plot_waveform(trace):\n",
    "    trace.plot(linewidth = 1, fillcolors = (\"grey\",\"grey\"))\n",
    "    plt.show()\n",
    "\n",
    "for i in rand_gen:\n",
    "    if file['rf_quality'][i] == 1 and file['pred_type'][i] == 'false_pos' and good < max:\n",
    "        st = op.read(f\"DATA/RF/{file['file_name'][i]}.pkl\").select(channel=\"RFR\")\n",
    "        good += 1\n",
    "        print(f\"Good waveform: {file['file_name'][i]}\")\n",
    "        plot_waveform(st)\n",
    "    elif file['rf_quality'][i] == 0 and file['pred_type'][i] == 'false_pos' and bad < max:\n",
    "        st = op.read(f\"DATA/RF/{file['file_name'][i]}.pkl\").select(channel=\"RFR\")\n",
    "        print(f\"Bad waveform: {file['file_name'][i]}\")\n",
    "        plot_waveform(st)\n",
    "        bad += 1\n",
    "    plt.show()\n",
    "    if good == max and bad == max:\n",
    "        break\n"
   ]
  }
 ],
 "metadata": {
  "kernelspec": {
   "display_name": "mlp",
   "language": "python",
   "name": "python3"
  },
  "language_info": {
   "codemirror_mode": {
    "name": "ipython",
    "version": 3
   },
   "file_extension": ".py",
   "mimetype": "text/x-python",
   "name": "python",
   "nbconvert_exporter": "python",
   "pygments_lexer": "ipython3",
   "version": "3.8.18"
  }
 },
 "nbformat": 4,
 "nbformat_minor": 2
}
