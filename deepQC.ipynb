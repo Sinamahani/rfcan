{
 "cells": [
  {
   "cell_type": "code",
   "execution_count": 1,
   "metadata": {},
   "outputs": [],
   "source": [
    "from codes_RF.dpqc_models import DeepQC"
   ]
  },
  {
   "cell_type": "code",
   "execution_count": 2,
   "metadata": {},
   "outputs": [
    {
     "name": "stdout",
     "output_type": "stream",
     "text": [
      "the folowing are the dataset accessable:\n",
      " train_input: (9260, 424, 1)\n",
      " train_label: (9260, 1)\n",
      " test_input: (3600, 424, 1)\n",
      " test_label: (3600, 1)\n"
     ]
    },
    {
     "data": {
      "image/png": "[encoded data removed]",
      "text/plain": [
       "<Figure size 432x288 with 1 Axes>"
      ]
     },
     "metadata": {
      "needs_background": "light"
     },
     "output_type": "display_data"
    }
   ],
   "source": [
    "my_deepqc = DeepQC()                            #initialize the class\n",
    "my_deepqc.load_data(label_keyword=[\"X5\"])       #load the data into the class object (default; label_keyword=\"X5\")\n",
    "my_deepqc.stats()                               #plot the data distribution    "
   ]
  },
  {
   "cell_type": "code",
   "execution_count": 3,
   "metadata": {},
   "outputs": [
    {
     "name": "stdout",
     "output_type": "stream",
     "text": [
      "the folowing are the dataset accessable:\n",
      " train_input: (10218, 424, 1)\n",
      " train_label: (10218, 1)\n",
      " test_input: (3600, 424, 1)\n",
      " test_label: (3600, 1)\n",
      "the folowing are the dataset accessable:\n",
      " train_input: (11176, 424, 1)\n",
      " train_label: (11176, 1)\n",
      " test_input: (3600, 424, 1)\n",
      " test_label: (3600, 1)\n",
      "the folowing are the dataset accessable:\n",
      " train_input: (20436, 424, 1)\n",
      " train_label: (20436, 1)\n",
      " test_input: (3600, 424, 1)\n",
      " test_label: (3600, 1)\n"
     ]
    }
   ],
   "source": [
    "my_deepqc.add_shift(shift_factor=5)        #augment the data (default; noise_factor=40)\n",
    "my_deepqc.add_scaling(scaling_factor=0.2)   #augment the data (default; low_pass=0.2)\n",
    "my_deepqc.add_noise(noise_factor=0.01)      #augment the data (default; noise_factor=0.05)"
   ]
  },
  {
   "cell_type": "code",
   "execution_count": 4,
   "metadata": {},
   "outputs": [
    {
     "name": "stdout",
     "output_type": "stream",
     "text": [
      "==================================================================================================== \n",
      " ====================================================================================================\n",
      "initializer: he_uniform -- learning rate: 0.0001 -- decay: 1e-06 -- batch size: 256 -- kernel_size: 5\n",
      "==================================================================================================== \n",
      " ====================================================================================================\n",
      "Epoch 1/100\n",
      "80/80 [==============================] - 23s 239ms/step - loss: 0.0641 - accuracy: 0.9016 - f1_score: 0.7291 - val_loss: 0.0295 - val_accuracy: 0.9581 - val_f1_score: 0.8221\n",
      "Epoch 2/100\n",
      "80/80 [==============================] - 17s 212ms/step - loss: 0.0397 - accuracy: 0.9450 - f1_score: 0.8548 - val_loss: 0.0281 - val_accuracy: 0.9617 - val_f1_score: 0.8337\n",
      "Epoch 3/100\n",
      "80/80 [==============================] - 17s 209ms/step - loss: 0.0359 - accuracy: 0.9518 - f1_score: 0.8731 - val_loss: 0.0256 - val_accuracy: 0.9636 - val_f1_score: 0.8314\n",
      "Epoch 4/100\n",
      "80/80 [==============================] - 17s 210ms/step - loss: 0.0319 - accuracy: 0.9573 - f1_score: 0.8878 - val_loss: 0.0259 - val_accuracy: 0.9633 - val_f1_score: 0.8277\n",
      "Epoch 5/100\n",
      "80/80 [==============================] - 16s 206ms/step - loss: 0.0310 - accuracy: 0.9588 - f1_score: 0.8916 - val_loss: 0.0279 - val_accuracy: 0.9636 - val_f1_score: 0.8348\n",
      "Epoch 6/100\n",
      "80/80 [==============================] - 16s 205ms/step - loss: 0.0314 - accuracy: 0.9612 - f1_score: 0.8981 - val_loss: 0.0285 - val_accuracy: 0.9611 - val_f1_score: 0.8353\n",
      "Epoch 7/100\n",
      "80/80 [==============================] - 16s 205ms/step - loss: 0.0258 - accuracy: 0.9658 - f1_score: 0.9099 - val_loss: 0.0277 - val_accuracy: 0.9642 - val_f1_score: 0.8398\n",
      "Epoch 8/100\n",
      "80/80 [==============================] - 16s 205ms/step - loss: 0.0246 - accuracy: 0.9685 - f1_score: 0.9174 - val_loss: 0.0272 - val_accuracy: 0.9636 - val_f1_score: 0.8323\n",
      "Epoch 8: early stopping\n"
     ]
    },
    {
     "data": {
      "image/png": "[encoded data removed]",
      "text/plain": [
       "<Figure size 432x288 with 1 Axes>"
      ]
     },
     "metadata": {
      "needs_background": "light"
     },
     "output_type": "display_data"
    },
    {
     "name": "stderr",
     "output_type": "stream",
     "text": [
      "/Users/sina/anaconda3/envs/mlp/lib/python3.8/site-packages/keras/src/engine/training.py:3000: UserWarning: You are saving your model as an HDF5 file via `model.save()`. This file format is considered legacy. We recommend using instead the native Keras format, e.g. `model.save('my_model.keras')`.\n",
      "  saving_api.save_model(\n"
     ]
    }
   ],
   "source": [
    "kernel_sizes = [5]\n",
    "lr = [1e-4]\n",
    "decay = [1e-6]\n",
    "batch_size = [256]\n",
    "initializers = ['he_uniform'] #, 'zeros', 'ones', 'random_uniform', 'random_normal', 'truncated_normal', 'glorot_normal', 'glorot_uniform', 'he_normal', 'he_uniform', 'lecun_uniform', 'lecun_normal']\n",
    "\n",
    "exit_all_loop = False\n",
    "for kernel_size in kernel_sizes:\n",
    "    if exit_all_loop:\n",
    "        break\n",
    "    for init in initializers:\n",
    "        if exit_all_loop:\n",
    "            break\n",
    "        for LR in zip(lr, decay):\n",
    "            if exit_all_loop:\n",
    "                break\n",
    "            for batch in batch_size:\n",
    "                print(\"=\"*100,\"\\n\", \"=\"*100)\n",
    "                print(\"initializer:\", init, \"-- learning rate:\", LR[0], \"-- decay:\", LR[1], \"-- batch size:\", batch, \"-- kernel_size:\", kernel_size)\n",
    "                print(\"=\"*100,\"\\n\", \"=\"*100)\n",
    "                \n",
    "                \n",
    "                acc = my_deepqc.train(model_type=\"unet\", initializer=init, kernel_size = kernel_size, epochs= 100, batch_size= batch, verbose= 1, lr= LR[0], decay= LR[1],\n",
    "                    plot_history= True, patience= 5, min_delta= 0.001, target_accuracy = 0.95)\n",
    "                if acc > 0.97:\n",
    "                    exit_all_loop = True\n",
    "                    break"
   ]
  },
  {
   "cell_type": "code",
   "execution_count": null,
   "metadata": {},
   "outputs": [],
   "source": [
    "my_deepqc.train(model_type=\"unet\", kernel_size = 7, epochs= 15, batch_size= 256, verbose= 1, lr= 1e-4, decay= 1e-6,\n",
    "                plot_history= True, patience= 10, min_delta= 0.0001, target_accuracy = 0.94, initializer='he_uniform')"
   ]
  },
  {
   "cell_type": "code",
   "execution_count": null,
   "metadata": {},
   "outputs": [],
   "source": [
    "my_deepqc.model.summary()"
   ]
  },
  {
   "cell_type": "code",
   "execution_count": null,
   "metadata": {},
   "outputs": [],
   "source": [
    "import os\n",
    "import obspy\n",
    "import matplotlib.pyplot as plt\n",
    "\n",
    "station = \"CRLN\"\n",
    "range = [280, 300]\n",
    "\n",
    "all = os.listdir(\"DATA/RF/\")\n",
    "all = [i for i in all if i.endswith(\".pkl\")]\n",
    "all = [i for i in all if station in i]\n",
    "tr = obspy.Stream()\n",
    "for i in all:\n",
    "    st = obspy.read(\"DATA/RF/\"+i).select(channel=\"RFR\")\n",
    "\n",
    "    if st[0].stats.baz > range[0] and st[0].stats.baz < range[1]:\n",
    "        if st[0].stats.snr > 1:\n",
    "            print(i, st[0].stats.baz)\n",
    "            tr += st\n",
    "tr.stack()\n",
    "tr.plot()\n"
   ]
  },
  {
   "cell_type": "code",
   "execution_count": null,
   "metadata": {},
   "outputs": [],
   "source": []
  }
 ],
 "metadata": {
  "kernelspec": {
   "display_name": "tf_test",
   "language": "python",
   "name": "python3"
  },
  "language_info": {
   "codemirror_mode": {
    "name": "ipython",
    "version": 3
   },
   "file_extension": ".py",
   "mimetype": "text/x-python",
   "name": "python",
   "nbconvert_exporter": "python",
   "pygments_lexer": "ipython3",
   "version": "3.8.18"
  }
 },
 "nbformat": 4,
 "nbformat_minor": 2
}
