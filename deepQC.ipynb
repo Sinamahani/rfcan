{
 "cells": [
  {
   "cell_type": "code",
   "execution_count": 1,
   "metadata": {},
   "outputs": [],
   "source": [
    "from codes_RF.dpqc_models import DeepQC"
   ]
  },
  {
   "cell_type": "code",
   "execution_count": 2,
   "metadata": {},
   "outputs": [
    {
     "name": "stdout",
     "output_type": "stream",
     "text": [
      "the folowing are the dataset accessable:\n",
      " train_input: (9260, 424, 1)\n",
      " train_label: (9260, 1)\n",
      " test_input: (3600, 424, 1)\n",
      " test_label: (3600, 1)\n"
     ]
    },
    {
     "data": {
      "image/png": "[encoded data removed]",
      "text/plain": [
       "<Figure size 432x288 with 1 Axes>"
      ]
     },
     "metadata": {
      "needs_background": "light"
     },
     "output_type": "display_data"
    }
   ],
   "source": [
    "my_deepqc = DeepQC()                            #initialize the class\n",
    "my_deepqc.load_data(label_keyword=[\"X5\"])       #load the data into the class object (default; label_keyword=\"X5\")\n",
    "my_deepqc.stats()                               #plot the data distribution    "
   ]
  },
  {
   "cell_type": "code",
   "execution_count": 3,
   "metadata": {},
   "outputs": [
    {
     "name": "stdout",
     "output_type": "stream",
     "text": [
      "the folowing are the dataset accessable:\n",
      " train_input: (10217, 424, 1)\n",
      " train_label: (10217, 1)\n",
      " test_input: (3600, 424, 1)\n",
      " test_label: (3600, 1)\n",
      "the folowing are the dataset accessable:\n",
      " train_input: (11174, 424, 1)\n",
      " train_label: (11174, 1)\n",
      " test_input: (3600, 424, 1)\n",
      " test_label: (3600, 1)\n",
      "the folowing are the dataset accessable:\n",
      " train_input: (20434, 424, 1)\n",
      " train_label: (20434, 1)\n",
      " test_input: (3600, 424, 1)\n",
      " test_label: (3600, 1)\n"
     ]
    }
   ],
   "source": [
    "my_deepqc.add_shift(shift_factor=5)        #augment the data (default; noise_factor=40)\n",
    "my_deepqc.add_scaling(scaling_factor=0.2)   #augment the data (default; low_pass=0.2)\n",
    "my_deepqc.add_noise(noise_factor=0.01)      #augment the data (default; noise_factor=0.05)"
   ]
  },
  {
   "cell_type": "code",
   "execution_count": null,
   "metadata": {},
   "outputs": [],
   "source": [
    "kernel_sizes = [5, 7]\n",
    "lr = [1e-4, 1e-5]\n",
    "decay = [1e-6, 1e-6]\n",
    "batch_size = [256, 512]\n",
    "initializers = ['he_uniform']   #'zeros', 'ones', 'random_uniform', 'random_normal', 'truncated_normal', 'glorot_normal', 'glorot_uniform', 'he_normal', 'he_uniform', 'lecun_uniform', 'lecun_normal'\n",
    "\n",
    "exit_all_loop = False\n",
    "for kernel_size in kernel_sizes:\n",
    "    if exit_all_loop:\n",
    "        break\n",
    "    for init in initializers:\n",
    "        if exit_all_loop:\n",
    "            break\n",
    "        for LR in zip(lr, decay):\n",
    "            if exit_all_loop:\n",
    "                break\n",
    "            for batch in batch_size:\n",
    "                print(\"*\"*100)\n",
    "                print(\"=\"*100)\n",
    "                print(\"initializer:\", init, \"-- learning rate:\", LR[0], \"-- decay:\", LR[1], \"-- batch size:\", batch, \"-- kernel_size:\", kernel_size)\n",
    "                print(\"=\"*100)\n",
    "                print(\"*\"*100)\n",
    "                \n",
    "                acc = my_deepqc.train(model_type=\"unet\", initializer=init, kernel_size = kernel_size, epochs= 100, batch_size= batch, verbose= 1, lr= LR[0], decay= LR[1],\n",
    "                    plot_history= True, patience= 3, min_delta= 0.001, target_accuracy = 0.85)\n",
    "                if acc > 0.97:\n",
    "                    exit_all_loop = True\n",
    "                    break"
   ]
  },
  {
   "cell_type": "code",
   "execution_count": 5,
   "metadata": {},
   "outputs": [
    {
     "name": "stdout",
     "output_type": "stream",
     "text": [
      "Loaded model:  unet_0.966_he_uniform_kernelsize_5_lr_0.0001.h5\n",
      "Epoch 1/1000\n",
      "80/80 [==============================] - 23s 246ms/step - loss: 0.0345 - accuracy: 0.9546 - f1_score: 0.8802 - val_loss: 0.0365 - val_accuracy: 0.9517 - val_f1_score: 0.8117\n",
      "Epoch 2/1000\n",
      "80/80 [==============================] - 16s 202ms/step - loss: 0.0263 - accuracy: 0.9651 - f1_score: 0.9078 - val_loss: 0.0252 - val_accuracy: 0.9650 - val_f1_score: 0.8421\n",
      "Epoch 3/1000\n",
      "80/80 [==============================] - 16s 203ms/step - loss: 0.0246 - accuracy: 0.9675 - f1_score: 0.9141 - val_loss: 0.0251 - val_accuracy: 0.9667 - val_f1_score: 0.8485\n",
      "Epoch 4/1000\n",
      "80/80 [==============================] - 16s 200ms/step - loss: 0.0244 - accuracy: 0.9683 - f1_score: 0.9161 - val_loss: 0.0298 - val_accuracy: 0.9608 - val_f1_score: 0.8374\n",
      "Epoch 5/1000\n",
      "80/80 [==============================] - 16s 201ms/step - loss: 0.0207 - accuracy: 0.9732 - f1_score: 0.9294 - val_loss: 0.0274 - val_accuracy: 0.9628 - val_f1_score: 0.8354\n",
      "Epoch 6/1000\n",
      "80/80 [==============================] - 16s 200ms/step - loss: 0.0195 - accuracy: 0.9750 - f1_score: 0.9341 - val_loss: 0.0275 - val_accuracy: 0.9644 - val_f1_score: 0.8372\n",
      "Epoch 6: early stopping\n"
     ]
    },
    {
     "data": {
      "image/png": "[encoded data removed]",
      "text/plain": [
       "<Figure size 432x288 with 1 Axes>"
      ]
     },
     "metadata": {
      "needs_background": "light"
     },
     "output_type": "display_data"
    },
    {
     "name": "stderr",
     "output_type": "stream",
     "text": [
      "/Users/sina/anaconda3/envs/mlp/lib/python3.8/site-packages/keras/src/engine/training.py:3000: UserWarning: You are saving your model as an HDF5 file via `model.save()`. This file format is considered legacy. We recommend using instead the native Keras format, e.g. `model.save('my_model.keras')`.\n",
      "  saving_api.save_model(\n"
     ]
    },
    {
     "data": {
      "text/plain": [
       "0.964"
      ]
     },
     "execution_count": 5,
     "metadata": {},
     "output_type": "execute_result"
    }
   ],
   "source": [
    "my_deepqc.train(model_type=\"pre-unet\", kernel_size = 7, epochs= 1000, batch_size= 256, verbose= 1, lr= 1e-4, decay= 1e-6,\n",
    "                plot_history= True, patience= 3, min_delta= 0.0001, target_accuracy = 0.94, initializer='he_uniform')"
   ]
  },
  {
   "cell_type": "code",
   "execution_count": 6,
   "metadata": {},
   "outputs": [
    {
     "name": "stdout",
     "output_type": "stream",
     "text": [
      "Model: \"model_1\"\n",
      "__________________________________________________________________________________________________\n",
      " Layer (type)                Output Shape                 Param #   Connected to                  \n",
      "==================================================================================================\n",
      " input_2 (InputLayer)        [(None, 424, 1)]             0         []                            \n",
      "                                                                                                  \n",
      " conv1d_14 (Conv1D)          (None, 424, 32)              192       ['input_2[0][0]']             \n",
      "                                                                                                  \n",
      " conv1d_15 (Conv1D)          (None, 424, 32)              5152      ['conv1d_14[0][0]']           \n",
      "                                                                                                  \n",
      " max_pooling1d_3 (MaxPoolin  (None, 212, 32)              0         ['conv1d_15[0][0]']           \n",
      " g1D)                                                                                             \n",
      "                                                                                                  \n",
      " conv1d_16 (Conv1D)          (None, 212, 64)              10304     ['max_pooling1d_3[0][0]']     \n",
      "                                                                                                  \n",
      " conv1d_17 (Conv1D)          (None, 212, 64)              20544     ['conv1d_16[0][0]']           \n",
      "                                                                                                  \n",
      " max_pooling1d_4 (MaxPoolin  (None, 106, 64)              0         ['conv1d_17[0][0]']           \n",
      " g1D)                                                                                             \n",
      "                                                                                                  \n",
      " conv1d_18 (Conv1D)          (None, 106, 128)             41088     ['max_pooling1d_4[0][0]']     \n",
      "                                                                                                  \n",
      " conv1d_19 (Conv1D)          (None, 106, 128)             82048     ['conv1d_18[0][0]']           \n",
      "                                                                                                  \n",
      " max_pooling1d_5 (MaxPoolin  (None, 53, 128)              0         ['conv1d_19[0][0]']           \n",
      " g1D)                                                                                             \n",
      "                                                                                                  \n",
      " conv1d_20 (Conv1D)          (None, 53, 256)              164096    ['max_pooling1d_5[0][0]']     \n",
      "                                                                                                  \n",
      " conv1d_21 (Conv1D)          (None, 53, 256)              327936    ['conv1d_20[0][0]']           \n",
      "                                                                                                  \n",
      " up_sampling1d_3 (UpSamplin  (None, 106, 256)             0         ['conv1d_21[0][0]']           \n",
      " g1D)                                                                                             \n",
      "                                                                                                  \n",
      " concatenate_3 (Concatenate  (None, 106, 384)             0         ['conv1d_19[0][0]',           \n",
      " )                                                                   'up_sampling1d_3[0][0]']     \n",
      "                                                                                                  \n",
      " conv1d_22 (Conv1D)          (None, 106, 128)             245888    ['concatenate_3[0][0]']       \n",
      "                                                                                                  \n",
      " conv1d_23 (Conv1D)          (None, 106, 128)             82048     ['conv1d_22[0][0]']           \n",
      "                                                                                                  \n",
      " up_sampling1d_4 (UpSamplin  (None, 212, 128)             0         ['conv1d_23[0][0]']           \n",
      " g1D)                                                                                             \n",
      "                                                                                                  \n",
      " concatenate_4 (Concatenate  (None, 212, 192)             0         ['conv1d_17[0][0]',           \n",
      " )                                                                   'up_sampling1d_4[0][0]']     \n",
      "                                                                                                  \n",
      " conv1d_24 (Conv1D)          (None, 212, 64)              61504     ['concatenate_4[0][0]']       \n",
      "                                                                                                  \n",
      " conv1d_25 (Conv1D)          (None, 212, 64)              20544     ['conv1d_24[0][0]']           \n",
      "                                                                                                  \n",
      " up_sampling1d_5 (UpSamplin  (None, 424, 64)              0         ['conv1d_25[0][0]']           \n",
      " g1D)                                                                                             \n",
      "                                                                                                  \n",
      " concatenate_5 (Concatenate  (None, 424, 96)              0         ['conv1d_15[0][0]',           \n",
      " )                                                                   'up_sampling1d_5[0][0]']     \n",
      "                                                                                                  \n",
      " conv1d_26 (Conv1D)          (None, 424, 32)              9248      ['concatenate_5[0][0]']       \n",
      "                                                                                                  \n",
      " conv1d_27 (Conv1D)          (None, 424, 32)              3104      ['conv1d_26[0][0]']           \n",
      "                                                                                                  \n",
      " flatten_1 (Flatten)         (None, 13568)                0         ['conv1d_27[0][0]']           \n",
      "                                                                                                  \n",
      " dense_3 (Dense)             (None, 32)                   434208    ['flatten_1[0][0]']           \n",
      "                                                                                                  \n",
      " dense_4 (Dense)             (None, 16)                   528       ['dense_3[0][0]']             \n",
      "                                                                                                  \n",
      " dense_5 (Dense)             (None, 1)                    17        ['dense_4[0][0]']             \n",
      "                                                                                                  \n",
      "==================================================================================================\n",
      "Total params: 1508449 (5.75 MB)\n",
      "Trainable params: 1508449 (5.75 MB)\n",
      "Non-trainable params: 0 (0.00 Byte)\n",
      "__________________________________________________________________________________________________\n"
     ]
    }
   ],
   "source": [
    "my_deepqc.model.summary()"
   ]
  },
  {
   "cell_type": "code",
   "execution_count": null,
   "metadata": {},
   "outputs": [],
   "source": [
    "import os\n",
    "import obspy\n",
    "import matplotlib.pyplot as plt\n",
    "\n",
    "station = \"CRLN\"\n",
    "range = [280, 300]\n",
    "\n",
    "all = os.listdir(\"DATA/RF/\")\n",
    "all = [i for i in all if i.endswith(\".pkl\")]\n",
    "all = [i for i in all if station in i]\n",
    "tr = obspy.Stream()\n",
    "for i in all:\n",
    "    st = obspy.read(\"DATA/RF/\"+i).select(channel=\"RFR\")\n",
    "\n",
    "    if st[0].stats.baz > range[0] and st[0].stats.baz < range[1]:\n",
    "        if st[0].stats.snr > 1:\n",
    "            print(i, st[0].stats.baz)\n",
    "            tr += st\n",
    "tr.stack()\n",
    "tr.plot()\n"
   ]
  },
  {
   "cell_type": "code",
   "execution_count": null,
   "metadata": {},
   "outputs": [],
   "source": []
  }
 ],
 "metadata": {
  "kernelspec": {
   "display_name": "tf_test",
   "language": "python",
   "name": "python3"
  },
  "language_info": {
   "codemirror_mode": {
    "name": "ipython",
    "version": 3
   },
   "file_extension": ".py",
   "mimetype": "text/x-python",
   "name": "python",
   "nbconvert_exporter": "python",
   "pygments_lexer": "ipython3",
   "version": "3.8.18"
  }
 },
 "nbformat": 4,
 "nbformat_minor": 2
}
