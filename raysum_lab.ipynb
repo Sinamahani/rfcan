{
 "cells": [
  {
   "cell_type": "code",
   "execution_count": 2,
   "metadata": {},
   "outputs": [],
   "source": [
    "from pyraysum import prs, Geometry, Model, Control\n",
    "import numpy as np\n",
    "import ipywidgets as widgets\n",
    "import matplotlib.pyplot as plt\n",
    "from codes_RF.prs_utils import *"
   ]
  },
  {
   "cell_type": "code",
   "execution_count": 3,
   "metadata": {},
   "outputs": [],
   "source": [
    "def all(baz, slow, thickn, rho, vp, vs, dip, strike, plunge, trend, ani, scale = 20, print_model = False, plot_model = False):\n",
    "    thickn = np.array(thickn) * 1000\n",
    "    flag = [1 if i == 0 else 0 for i in ani]\n",
    "    model = Model(thickn, rho, vp, vs=vs, strike=strike, dip=dip, flag=flag, plunge=plunge, trend=trend, ani = ani)\n",
    "    if print_model:\n",
    "        print(\"The Model configuration is as below:\")\n",
    "        print(model)\n",
    "    # print(plunge, Trend, ani)\n",
    "    geom = Geometry(baz, slow)\n",
    "    npts = 1000\n",
    "    dt = 0.2\n",
    "    rc = Control(wvtype=\"P\", rot=1, mults=2, verbose=False, npts=npts, dt=dt, align=0)\n",
    "    result = prs.run(model, geom, rc, rf=True)\n",
    "    result.filter('rfs', 'lowpass', freq=1., zerophase=True, corners=2)\n",
    "    if plot_model:\n",
    "        result.plot('rfs', tmin=-5, tmax=35, scale=scale)\n",
    "        model.plot()\n",
    "        # geom.plot()\n",
    "    \n",
    "    return model, geom, result"
   ]
  },
  {
   "cell_type": "code",
   "execution_count": 4,
   "metadata": {},
   "outputs": [
    {
     "data": {
      "application/vnd.jupyter.widget-view+json": {
       "model_id": "c98b79c3e100463aa02cab58330d96ea",
       "version_major": 2,
       "version_minor": 0
      },
      "text/plain": [
       "interactive(children=(IntSlider(value=35, continuous_update=False, description='L1 Depth:', max=50, min=20, st…"
      ]
     },
     "execution_count": 4,
     "metadata": {},
     "output_type": "execute_result"
    }
   ],
   "source": [
    "def model2l(l1depth, l1rho, l2rho, l1vp, l2vp, l1vs, l2vs, l2strike, l2dip, l1ani, l2ani):\n",
    "    baz = np.arange(0, 360, 6)\n",
    "    slow = 0.01#np.array([0.08, 0.07])\n",
    "    thickn = np.array([l1depth, 0])\n",
    "    rho = np.array([l1rho, l2rho])\n",
    "    vp = np.array([l1vp, l2vp])\n",
    "    vs = np.array([l1vs, l2vs])\n",
    "    strike = np.array([0, l2strike])\n",
    "    dip = np.array([0, l2dip])\n",
    "    plunge = np.array([0, 0])\n",
    "    trend = np.array([270, 0])\n",
    "    ani = np.array([l1ani, l2ani])\n",
    "    model, geom, result = all(baz, slow, thickn, rho, vp, vs, dip, strike, plunge, trend, ani, scale = 200, print_model = False, plot_model = True)\n",
    "    X, time = harm_dec_calc(result, sig_len = 1000)\n",
    "    plot_har_dec(X, time)\n",
    "    \n",
    "param1 = widgets.IntSlider(value=35, min=20, max=50, step=4, description='L1 Depth:', continuous_update=False)\n",
    "param2 = widgets.IntSlider(value=2000, min=1500, max=4000, step=100, description='L1 Density:', continuous_update=False)\n",
    "param3 = widgets.IntSlider(value=3000, min=1500, max=4000, step=100, description='L2 Density:', continuous_update=False)\n",
    "param4 = widgets.IntSlider(value=6500, min=6000, max=7500, step=250, description='L1 Vp:', continuous_update=False)\n",
    "param5 = widgets.IntSlider(value=8000, min=6000, max=9000, step=500, description='L2 Vp:', continuous_update=False)\n",
    "param6 = widgets.IntSlider(value=3000, min=3500, max=5000, step=250, description='L1 Vs:', continuous_update=False)\n",
    "param7 = widgets.IntSlider(value=4500, min=3500, max=6500, step=250, description='L2 Vs:', continuous_update=False)\n",
    "param8 = widgets.IntSlider(value=0, min=0, max=14, step=2, description='L2 Dip:', continuous_update=False)\n",
    "param9 = widgets.FloatSlider(value=0, min=0, max=360, step=90, description='L2 Strike:', continuous_update=False)\n",
    "param10 = widgets.FloatSlider(value=0, min=-20, max=20, step=5, description='L1 Anisotropy:', continuous_update=False)\n",
    "param11 = widgets.FloatSlider(value=0, min=-20, max=20, step=5, description='L2 Anisotropy:', continuous_update=False)\n",
    "widgets.interactive(model2l, l1depth=param1, l1rho=param2, l2rho=param3, l1vp=param4, l2vp=param5, l1vs=param6, l2vs=param7, l2dip=param8, l2strike=param9, l1ani=param10, l2ani=param11)"
   ]
  },
  {
   "cell_type": "code",
   "execution_count": 5,
   "metadata": {},
   "outputs": [],
   "source": [
    "# def model3l(l1depth, l2depth, l2dip, l2strike, l1vp, l2vp, l1vs, l2vs):\n",
    "#     baz = np.arange(0, 360., 36)\n",
    "#     slow = 0.08\n",
    "#     thickn = np.array([l1depth, l2depth, 0])\n",
    "#     rho = np.array([1500, 3100, 4800])\n",
    "#     vp = np.array([l1vp, l2vp, 8000])\n",
    "#     vs = np.array([l1vs, l2vs, 6500])\n",
    "#     strike = np.array([0, l2strike, 0])\n",
    "#     dip = np.array([0, l2dip, 0])\n",
    "#     plunge = np.array([0, 0, 0])\n",
    "#     trend = np.array([0, 0, 0])\n",
    "#     ani = np.array([0, 50, 0])\n",
    "#     model, geom, result = all(baz, slow, thickn, rho, vp, vs, dip, strike, plunge, trend, ani, scale = 100, print_model = False, plot_model = True)\n",
    "\n",
    "# param1 = widgets.IntSlider(value=35, min=20, max=50, step=4, description='L1 Depth:', continuous_update=False)\n",
    "# param2 = widgets.IntSlider(value=50, min=40, max=60, step=2, description='L2 Depth:', continuous_update=False)\n",
    "# param3 = widgets.IntSlider(value=0, min=0, max=14, step=2, description='L2 Dip:', continuous_update=False)\n",
    "# param4 = widgets.FloatSlider(value=0, min=0, max=360, step=90, description='L2 Strike:', continuous_update=False)\n",
    "# param5 = widgets.IntSlider(value=6500, min=6000, max=7500, step=250, description='L1 Vp:', continuous_update=False)\n",
    "# param6 = widgets.IntSlider(value=8000, min=6000, max=9000, step=500, description='L2 Vp:', continuous_update=False)\n",
    "# param7 = widgets.IntSlider(value=3000, min=3500, max=5000, step=250, description='L1 Vs:', continuous_update=False)\n",
    "# param8 = widgets.IntSlider(value=4500, min=3500, max=6500, step=250, description='L2 Vs:', continuous_update=False)\n",
    "# widgets.interactive(model3l, l1depth=param1, l2depth=param2, l2dip=param3, l2strike=param4, l1vp=param5, l2vp=param6, l1vs=param7, l2vs=param8)\n"
   ]
  }
 ],
 "metadata": {
  "kernelspec": {
   "display_name": "prs",
   "language": "python",
   "name": "python3"
  },
  "language_info": {
   "codemirror_mode": {
    "name": "ipython",
    "version": 3
   },
   "file_extension": ".py",
   "mimetype": "text/x-python",
   "name": "python",
   "nbconvert_exporter": "python",
   "pygments_lexer": "ipython3",
   "version": "3.10.13"
  }
 },
 "nbformat": 4,
 "nbformat_minor": 2
}
