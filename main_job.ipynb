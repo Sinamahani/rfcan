{
 "cells": [
  {
   "cell_type": "markdown",
   "metadata": {},
   "source": [
    "![RFCAN](logo.png \"RFCAN_LOGO\")"
   ]
  },
  {
   "cell_type": "code",
   "execution_count": null,
   "metadata": {},
   "outputs": [],
   "source": [
    "from codes_RF.prep import PREP\n",
    "\n",
    "box = [55, 85, -105, -75]\n",
    "radius =[30, 100]\n",
    "mag = [5.5, 10.0]\n",
    "events = [2000, 2030]\n",
    "year = 3 #years of data"
   ]
  },
  {
   "cell_type": "code",
   "execution_count": null,
   "metadata": {},
   "outputs": [],
   "source": [
    "PREP.preparation(box, radius, mag, events, year, verbose=False)"
   ]
  },
  {
   "cell_type": "markdown",
   "metadata": {},
   "source": [
    "### Downloading RAW_WFs"
   ]
  },
  {
   "cell_type": "markdown",
   "metadata": {},
   "source": [
    "To minimize the time spent on downloading from NRCAN, you have the option to specify which networks you want to download from their web server. Simply set nrcan=True to activate downloading from this source.\n",
    "```\n",
    "DL.comprehensive_download(NET1, NET2, ..., nrcan=True)\n",
    "```\n",
    "\n"
   ]
  },
  {
   "cell_type": "code",
   "execution_count": null,
   "metadata": {},
   "outputs": [],
   "source": [
    "from codes_RF.prep import DL\n",
    "DL.comprehensive_download(\"X5\",\"PO\", nrcan=True)"
   ]
  },
  {
   "cell_type": "markdown",
   "metadata": {},
   "source": [
    "### Creating RFs"
   ]
  },
  {
   "cell_type": "code",
   "execution_count": null,
   "metadata": {},
   "outputs": [],
   "source": [
    "from codes_RF.prep import RF\n",
    "list = RF.mk_rf(filters=[0.05,0.5])"
   ]
  },
  {
   "cell_type": "markdown",
   "metadata": {},
   "source": [
    "### Manual QC"
   ]
  },
  {
   "cell_type": "markdown",
   "metadata": {},
   "source": [
    "you can analyze your data set by filtering some part and look at the results"
   ]
  },
  {
   "cell_type": "code",
   "execution_count": null,
   "metadata": {},
   "outputs": [],
   "source": [
    "from codes_RF.prep import QC\n",
    "QC.preview(filters=[\"sta_code-eq-TQF\",\"rf_quality-eq-1\"], data_type=\"rf\", preview_type=\"plot\")"
   ]
  },
  {
   "cell_type": "markdown",
   "metadata": {},
   "source": [
    "here you can do QC by examining the RFs and the corresponding RAW_WFs one-on-one"
   ]
  },
  {
   "cell_type": "code",
   "execution_count": null,
   "metadata": {},
   "outputs": [],
   "source": [
    "from codes_RF.prep import QC\n",
    "QC.manual_quality()"
   ]
  },
  {
   "cell_type": "markdown",
   "metadata": {},
   "source": [
    "### Automatic QC by DeepQCRF"
   ]
  },
  {
   "cell_type": "markdown",
   "metadata": {},
   "source": [
    "Doing QC using DeepQCRF is also possible, and you just need to use the following command and also filter your dataset by test_set_keywords:\n"
   ]
  },
  {
   "cell_type": "code",
   "execution_count": null,
   "metadata": {},
   "outputs": [],
   "source": [
    "from codes_RF.prep import QC\n",
    "\n",
    "test_set_keywords = [\"net_code-eq-X5\", \"ev_mag-gt-5.0\"]\n",
    "new_df = QC.quality_pred(test_set_keywords)"
   ]
  },
  {
   "cell_type": "markdown",
   "metadata": {},
   "source": [
    "### Visualizing RFs"
   ]
  },
  {
   "cell_type": "markdown",
   "metadata": {},
   "source": [
    "Setting your input stations and the bin size for the RFs"
   ]
  },
  {
   "cell_type": "code",
   "execution_count": null,
   "metadata": {},
   "outputs": [],
   "source": [
    "from codes_RF.viz import viz\n",
    "import pandas as pd\n",
    "\n",
    "sta_list = list(pd.read_csv(\"inv/all_stations.csv\")[\"sta_code\"])\n",
    "print(sta_list)\n",
    "# sta_list = ['DORN', 'MANN', 'MARN', 'NOTN', 'SHMN', 'SHWN', 'CRLN', 'CTSN']\n",
    "\n",
    "hist_bin = 30"
   ]
  },
  {
   "cell_type": "code",
   "execution_count": null,
   "metadata": {},
   "outputs": [],
   "source": [
    "my_proj = viz(sta_list, hist_bin, using_pred=True)   #create a viz object\n",
    "my_proj.distribution_hist()         #plot distribution histogram for baz and slow\n",
    "my_proj.plot_section(type=\"slow\")   #plot section for slow\n",
    "my_proj.plot_section(type=\"baz\")    #plot section for baz"
   ]
  },
  {
   "cell_type": "markdown",
   "metadata": {},
   "source": [
    "## H-k Stacking"
   ]
  },
  {
   "cell_type": "markdown",
   "metadata": {},
   "source": [
    "! below station ILON is in both CN and PO networks, so it uses both networks to stack the \n",
    "\n",
    "I removed station **AKVQ** from the list cause there is only two waveforms for this station"
   ]
  },
  {
   "cell_type": "code",
   "execution_count": null,
   "metadata": {},
   "outputs": [],
   "source": [
    "from codes_RF.hk import HKCan\n",
    "\n",
    "path_file = \"DATA/waveforms_list.csv\"\n",
    "# stations = [\"SHWN\", \"SHMN\", \"MARN\", \"MANN\", \"DORN\", \"NOTN\", \"CRLN\", \"CTSN\"]\n",
    "# # counter =  0      1        2       3       4       5       6       7       8      9       10      11      12      13    14      15      16     17      18     19      20       21\n",
    "\n",
    "#temp#temp#temp\n",
    "import numpy as np\n",
    "import pandas as pd\n",
    "stations = pd.read_csv(path_file)[\"sta_code\"].unique()\n",
    "stations = np.array(stations)\n",
    "stations = np.sort(stations)\n",
    "stations = np.delete(stations, np.where(stations == \"AKVQ\"))\n",
    "stations = np.delete(stations, np.where(stations == \"SNKN\"))\n",
    "stations = np.delete(stations, np.where(stations == \"KJKQ\"))\n",
    "stations = np.delete(stations, np.where(stations == \"MRYN\"))\n",
    "stations = np.delete(stations, np.where(stations == \"IVKQ\"))\n",
    "# stations = np.delete(stations, np.where(stations == \"JSON\"))\n",
    "print(stations)\n",
    "\n",
    "for sta in stations:\n",
    "    print(sta, \"++++++++++++++++++++++++++++++++++++++++++++++\")\n",
    "    hkcan = HKCan(path_file, sta, weights=[0.3,0.4,-0.3])#weights=weights[stations.index(sta)])\n",
    "    hkcan.hk(vp=6.3)\n",
    "    # hkcan.hk_change_param(weights=[3,1,-1], plot=True, auto_optimization=True)   #weights[stations.index(sta)], plot=True, auto_optimization=True)\n",
    "    "
   ]
  },
  {
   "cell_type": "code",
   "execution_count": null,
   "metadata": {},
   "outputs": [],
   "source": [
    "from codes_RF.rfpy_pkg.harmonics import Harmonics\n",
    "import pandas as pd\n",
    "import obspy\n",
    "\n",
    "\n",
    "# # stations = [\"SHWN\", \"SHMN\", \"MARN\", \"MANN\", \"DORN\", \"NOTN\", \"CRLN\", \"CTSN\"]\n",
    "# # stations = [\"SHWN\", \"SHMN\", \"MARN\", \"MANN\", \"DORN\", \"NOTN\", \"CRLN\", \"CTSN\", \"AXF\", \"CNF\", \"IBFB\", \"IBFE\", \"TQF\", \"MISB1\", \"MISB2\", \"PVB1\", \"PVB2\", \"BLKN\", \"EUNU\", \"FCC\", \"ILON\", \"POIN\", \"RES\", \"SAKN\", \"AKVQ\", \"AP3N\", \"ARVN\", \"BULN\", \"GIFN\", \"IGLN\", \"INUQ\", \"IVKQ\", \"JSON\", \"KUGN\", \"LAIN\", \"MCMN\", \"MRYN\", \"NUNN\", \"QILN\", \"SEDN\", \"SMLN\", \"SNKN\", \"SNQN\", \"SRLN\", \"STLN\", \"WAGN\", \"YBKN\", \"YRTN\"]\n",
    "# stations = pd.read_csv(\"DATA/waveforms_list.csv\")[\"sta_code\"].unique()\n",
    "\n",
    "#temp#temp#temp\n",
    "import numpy as np\n",
    "stations = np.delete(stations, np.where(stations == \"AKVQ\"))\n",
    "stations = np.delete(stations, np.where(stations == \"SNKN\"))\n",
    "stations = np.delete(stations, np.where(stations == \"KJKQ\"))\n",
    "stations = np.delete(stations, np.where(stations == \"MRYN\"))\n",
    "\n",
    "for sta in stations:\n",
    "\n",
    "    print(f\"==================== {sta} ====================\")\n",
    "    list_df = pd.read_csv(\"DATA/waveforms_list.csv\")\n",
    "    list_sta = list_df[(list_df.sta_code == sta) & (list_df.rf_quality == 1)]\n",
    "\n",
    "    #reading all waveforms R and T\n",
    "    rfR = obspy.Stream()\n",
    "    rfT = obspy.Stream()\n",
    "\n",
    "    for i in range(len(list_sta)):\n",
    "        file_name = list_sta.file_name.iloc[i]\n",
    "        path = f\"DATA/RF/{file_name}.pkl\"\n",
    "        wf = obspy.read(path)\n",
    "        rfR += wf.select(channel = \"RFR\")\n",
    "        rfT += wf.select(channel = \"RFT\")\n",
    "\n",
    "    rfR.filter('bandpass', freqmin = 0.05, freqmax = 0.5, corners = 2, zerophase = True)\n",
    "    rfT.filter('bandpass', freqmin = 0.05, freqmax = 0.5, corners = 2, zerophase = True)\n",
    "\n",
    "    harmonics = Harmonics(rfR, rfT)\n",
    "\n",
    "\n",
    "    harmonics.dcomp_find_azim()\n",
    "\n",
    "    print(f\"{harmonics.azim = }\")\n",
    "    print(f\"Number of events = {len(list_sta)}\")\n",
    "\n",
    "    harmonics.plot(scale = 4, title=f\"{sta} - {harmonics.azim:.0f}°\")"
   ]
  },
  {
   "cell_type": "code",
   "execution_count": null,
   "metadata": {},
   "outputs": [],
   "source": [
    "# harmonics.forward(baz_list=[10, 20, 30, 348])\n",
    "# import matplotlib.pyplot as plt\n",
    "# for tr in harmonics.radial_forward:\n",
    "#     tr.plot()\n",
    "#     plt.show()"
   ]
  },
  {
   "cell_type": "code",
   "execution_count": null,
   "metadata": {},
   "outputs": [],
   "source": []
  }
 ],
 "metadata": {
  "kernelspec": {
   "display_name": "base",
   "language": "python",
   "name": "python3"
  },
  "language_info": {
   "codemirror_mode": {
    "name": "ipython",
    "version": 3
   },
   "file_extension": ".py",
   "mimetype": "text/x-python",
   "name": "python",
   "nbconvert_exporter": "python",
   "pygments_lexer": "ipython3",
   "version": "3.12.0"
  }
 },
 "nbformat": 4,
 "nbformat_minor": 2
}
