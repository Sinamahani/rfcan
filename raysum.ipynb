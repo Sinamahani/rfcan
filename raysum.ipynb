{
 "cells": [
  {
   "cell_type": "code",
   "execution_count": null,
   "metadata": {},
   "outputs": [],
   "source": [
    "from pyraysum import prs, Geometry, Model, Control\n",
    "import numpy as np\n",
    "import os\n",
    "import obspy as op\n",
    "import pandas as pd"
   ]
  },
  {
   "cell_type": "code",
   "execution_count": null,
   "metadata": {},
   "outputs": [],
   "source": [
    "def all(baz, slow, thickn, rho, vp, vs, dip, strike, plunge, trend, ani, npts, dt, scale = 20, print_model = False, plot_model = False, plot_geom = False):\n",
    "    thickn = np.array(thickn) * 1000\n",
    "    flag = [1 if i == 0 else 0 for i in ani]\n",
    "    model = Model(thickn, rho, vp, vs=vs, strike=strike, dip=dip, flag=flag, plunge=plunge, trend=trend, ani = ani)\n",
    "    if print_model:\n",
    "        print(\"The Model configuration is as below:\")\n",
    "        print(model)\n",
    "    # print(plunge, Trend, ani)\n",
    "    geom = Geometry(baz, slow)\n",
    "    \n",
    "    rc = Control(rot=1, mults=1, verbose=False, npts=npts, dt=dt)\n",
    "    result = prs.run(model, geom, rc, rf=True)\n",
    "    result.filter('rfs', 'lowpass', freq=1., zerophase=True, corners=2)\n",
    "    if plot_model:\n",
    "        model.plot()\n",
    "        result.plot('rfs', tmin=-0.5, tmax = npts*dt*0.5, scale = scale)\n",
    "    if plot_geom:\n",
    "        geom.plot()\n",
    "    \n",
    "    return model, geom, result"
   ]
  },
  {
   "cell_type": "code",
   "execution_count": null,
   "metadata": {},
   "outputs": [],
   "source": [
    "baz = np.arange(0., 360., 6.)\n",
    "slow = 0.003\n",
    "thickn = [40, 3, 0]   #km\n",
    "rho = [2800, 2800, 2800]\n",
    "vp = [6400, 7000, 7800]\n",
    "vs = [3600, 3800, 4000]\n",
    "#plane geometry\n",
    "dip = [0, 5, -0]       #degrees\n",
    "strike = [0, -0, -0]\n",
    "#ansitropy\n",
    "plunge = [0, 0, 0]\n",
    "trend = [0, 0, 0]\n",
    "ani = [0, 0, 0]\n",
    "npts = 1500\n",
    "dt = 0.0125\n",
    "\n",
    "model, geom, result = all(baz, slow, thickn, rho, vp, vs, dip, strike, plunge, trend, ani, npts, dt, scale = 500, print_model = False, plot_model = False)"
   ]
  },
  {
   "cell_type": "code",
   "execution_count": null,
   "metadata": {},
   "outputs": [],
   "source": [
    "from codes_RF.prs_utils import *\n",
    "\n",
    "X, time = harm_dec_calc(result, sig_len = 1500)\n",
    "plot_har_dec(X, time)"
   ]
  },
  {
   "cell_type": "code",
   "execution_count": null,
   "metadata": {},
   "outputs": [],
   "source": [
    "def read_all_data(keyword):\n",
    "    baz = []\n",
    "    slow = []\n",
    "    path = \"DATA/waveforms_list.csv\"\n",
    "    waveforms_list = pd.read_csv(path)\n",
    "    filtered_files = waveforms_list[waveforms_list['sta_code']==keyword].copy()\n",
    "    filtered_files = filtered_files[filtered_files['rf_quality'] == 1].copy()\n",
    "    path = \"DATA/RF/\"\n",
    "    npts = 426 * 2\n",
    "    dt = 0.2\n",
    "    data_real = np.zeros((len(filtered_files), npts))\n",
    "    idx = 0\n",
    "    for index, row in filtered_files.iterrows():\n",
    "        wave_path = os.path.join(path, row['file_name']+\".pkl\")\n",
    "        st = op.read(wave_path)\n",
    "        data_RFR = st.select(channel=\"RFR\")[0].data\n",
    "        data_RFT = st.select(channel=\"RFT\")[0].data\n",
    "        data_real[idx, :] = np.concatenate([data_RFR, data_RFT])\n",
    "        baz.append(st[0].stats.baz)\n",
    "        slow.append(st[0].stats.slow)\n",
    "        idx += 1\n",
    "    return data_real, baz, slow\n",
    "\n",
    "\n",
    "def predict(baz, slow, thickn, rho, vp, vs, dip, strike, plunge, trend, ani, \n",
    "                   scale = 500, print_model = False, plot_model = False, plot_geom=True):\n",
    "    _, _, result = all(baz, slow, thickn, rho, vp, vs, dip, strike, plunge, trend, ani, 426, 0.2,\n",
    "                   scale = 500, print_model = False, plot_model = False, plot_geom=True)\n",
    "    \n",
    "    data_pred = np.zeros((len(result), 426*2))\n",
    "    idx = 0\n",
    "    for i in result:\n",
    "        data = np.concatenate((i[1][0].data, i[1][1].data), axis = 0)\n",
    "        data_pred[idx, :] = data\n",
    "        idx += 1\n",
    "    return data_pred\n",
    "    "
   ]
  },
  {
   "cell_type": "code",
   "execution_count": null,
   "metadata": {},
   "outputs": [],
   "source": [
    "layers = 3\n",
    "data_real, baz, slow= read_all_data(\"CRLN\")\n",
    "n_waveforms = len(data_real)\n",
    "\n",
    "\n",
    "thickn = [0 for thk in range(layers)]\n",
    "rho = [0 for rho in range(layers)]\n",
    "vp = [6000 for vp in range(layers)]\n",
    "vs = [3500 for vs in range(layers)]\n",
    "rho = [2800 for rho in range(layers)]\n",
    "dip = [0 for dip in range(layers)]\n",
    "strike = [0 for strike in range(layers)]\n",
    "plunge = [0 for plunge in range(layers)]\n",
    "trend = [0 for trend in range(layers)]\n",
    "ani = [0 for ani in range(layers)]\n",
    "\n",
    "thickn[0] = 70\n",
    "thickn[1] = 3\n",
    "rho[1] = 4000\n",
    "rho[2] = 4000\n",
    "vp[1] = 7000\n",
    "vp[2] = 7500\n",
    "vs[1] = 3800\n",
    "vs[2] = 4000\n",
    "dip[1] = 5\n",
    "dip[2] = 5\n"
   ]
  },
  {
   "cell_type": "code",
   "execution_count": null,
   "metadata": {},
   "outputs": [],
   "source": [
    "\n",
    "data_pred = predict(baz, slow, thickn, rho, vp, vs, dip, strike, plunge, trend, ani,\n",
    "                   scale = 500, print_model = False, plot_model = False, plot_geom=True)"
   ]
  },
  {
   "cell_type": "code",
   "execution_count": null,
   "metadata": {},
   "outputs": [],
   "source": [
    "plt.imshow(data_pred, aspect='auto')\n",
    "plt.show()\n",
    "plt.imshow(data_real, aspect='auto')\n",
    "plt.show()"
   ]
  },
  {
   "cell_type": "code",
   "execution_count": null,
   "metadata": {},
   "outputs": [],
   "source": []
  }
 ],
 "metadata": {
  "kernelspec": {
   "display_name": "prs",
   "language": "python",
   "name": "python3"
  },
  "language_info": {
   "codemirror_mode": {
    "name": "ipython",
    "version": 3
   },
   "file_extension": ".py",
   "mimetype": "text/x-python",
   "name": "python",
   "nbconvert_exporter": "python",
   "pygments_lexer": "ipython3",
   "version": "3.10.13"
  }
 },
 "nbformat": 4,
 "nbformat_minor": 2
}
