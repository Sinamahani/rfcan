{
 "cells": [
  {
   "cell_type": "code",
   "execution_count": 1085,
   "metadata": {},
   "outputs": [],
   "source": [
    "from pyraysum import prs, Geometry, Model, Control\n",
    "import numpy as np\n",
    "import os\n",
    "import obspy as op\n",
    "import pandas as pd\n",
    "from numpy.linalg import norm\n",
    "from scipy.optimize import dual_annealing\n",
    "import matplotlib.pyplot as plt"
   ]
  },
  {
   "cell_type": "code",
   "execution_count": 1086,
   "metadata": {},
   "outputs": [],
   "source": [
    "def all(baz, slow, thickn, rho, vp, vs, dip, strike, plunge, trend, ani, npts, dt, scale = 20, print_model = False, plot_model = False, plot_geom = False):\n",
    "    thickn = np.array(thickn) * 1000\n",
    "    flag = [1 if i == 0 else 0 for i in ani]\n",
    "    model = Model(thickn, rho, vp, vs=vs, strike=strike, dip=dip, flag=flag, plunge=plunge, trend=trend, ani = ani)\n",
    "    if print_model:\n",
    "        print(\"The Model configuration is as below:\")\n",
    "        print(model)\n",
    "    # print(plunge, Trend, ani)\n",
    "    geom = Geometry(baz, slow)\n",
    "    \n",
    "    rc = Control(wvtype=\"P\", rot=1, mults=2, verbose=False, npts=npts, dt=dt, align = 1, shift=10)\n",
    "    result = prs.run(model, geom, rc, rf=True)\n",
    "    result.filter('rfs', 'lowpass', freq=1., zerophase=True, corners=2)\n",
    "    if plot_model:\n",
    "        model.plot()\n",
    "        result.plot('rfs', tmin=-npts*dt*0.5, tmax = npts*dt*0.5, scale = scale)\n",
    "    if plot_geom:\n",
    "        geom.plot()\n",
    "    \n",
    "    return model, geom, result\n",
    "\n",
    "\n",
    "def read_all_data(keyword):\n",
    "    baz = []\n",
    "    slow = []\n",
    "    path = \"DATA/waveforms_list.csv\"\n",
    "    waveforms_list = pd.read_csv(path)\n",
    "    filtered_files = waveforms_list[waveforms_list['sta_code']==keyword].copy()\n",
    "    filtered_files = filtered_files[filtered_files['rf_quality'] == 1].copy()\n",
    "    path = \"DATA/RF/\"\n",
    "    npts = 426 * 2\n",
    "    dt = 0.2\n",
    "    data_real = np.zeros((len(filtered_files), npts))\n",
    "    idx = 0\n",
    "    for index, row in filtered_files.iterrows():\n",
    "        wave_path = os.path.join(path, row['file_name']+\".pkl\")\n",
    "        st = op.read(wave_path)\n",
    "        data_RFR = st.select(channel=\"RFR\")[0].data\n",
    "        data_RFT = st.select(channel=\"RFT\")[0].data\n",
    "        data_RFR = normalize(data_RFR)\n",
    "        data_RFT = normalize(data_RFT)\n",
    "        data_real[idx, :] = np.concatenate([data_RFR, data_RFT])\n",
    "        baz.append(st[0].stats.baz)\n",
    "        slow.append(st[0].stats.slow)\n",
    "        idx += 1\n",
    "    return data_real, baz, slow\n",
    "\n",
    "\n",
    "def predict(geom, model, scale = 500, print_model = False, plot_model = False, plot_geom=False):\n",
    "\n",
    "    _, _, result = all(geom[\"baz\"], geom[\"slow\"], \n",
    "                       model[\"thickn\"], model[\"rho\"], model[\"vp\"], model[\"vs\"], model[\"dip\"], model[\"strike\"], model[\"plunge\"], model[\"trend\"], model[\"ani\"],\n",
    "                    426, 0.2, scale = 500, print_model = False, plot_model = False, plot_geom=plot_geom)\n",
    "    \n",
    "    data_pred = np.zeros((len(result), 426*2))\n",
    "    idx = 0\n",
    "    for i in result:\n",
    "        RFR = normalize(i[1][0].data)\n",
    "        RFT = normalize(i[1][1].data)\n",
    "        data = np.concatenate((RFR, RFT), axis = 0)\n",
    "        data_pred[idx, :] = data\n",
    "        idx += 1\n",
    "        # plt.plot(i[1][0].data+idx*0.005, \"black\")\n",
    "    # plt.show()\n",
    "    return data_pred\n",
    "\n",
    "def normalize(trace):\n",
    "    #normalize between -1 and 1\n",
    "    trace = trace - np.mean(trace)\n",
    "    trace_max = np.max(np.abs(trace))\n",
    "    trace = trace/trace_max\n",
    "\n",
    "    return trace\n",
    "\n",
    "def cost_func(theta, model, geom, obs):\n",
    "    model[\"thickn\"][0] = theta[0]\n",
    "    model[\"thickn\"][1] = theta[1]\n",
    "\n",
    "    data_pred = predict(geom, model)\n",
    "    mat = np.subtract(data_pred, obs)\n",
    "    return norm(mat, 'fro')\n",
    "\n",
    "    \n",
    "\n",
    "# data_pred = predict(baz, slow, thickn, rho, vp, vs, dip, strike, plunge, trend, ani,\n",
    "#                    scale = 500, print_model = False, plot_model = False, plot_geom=False)"
   ]
  },
  {
   "cell_type": "code",
   "execution_count": 1087,
   "metadata": {},
   "outputs": [],
   "source": [
    "# from codes_RF.prs_utils import *\n",
    "\n",
    "# X, time = harm_dec_calc(result, sig_len = 1500)\n",
    "# plot_har_dec(X, time)"
   ]
  },
  {
   "cell_type": "code",
   "execution_count": 1088,
   "metadata": {},
   "outputs": [],
   "source": [
    "layers = 3\n",
    "data_real, baz, slow= read_all_data(\"CRLN\")\n",
    "n_waveforms = len(data_real)\n",
    "\n",
    "geom = {\"baz\": baz,\n",
    "        \"slow\": slow}\n",
    "\n",
    "model = {\"thickn\": [0 for thk in range(layers)],\n",
    "         \"rho\": [5000 for rho in range(layers)],\n",
    "         \"vp\":[6000 for vp in range(layers)],\n",
    "         \"vs\":[3500 for vs in range(layers)],\n",
    "         \"dip\":[0 for dip in range(layers)],\n",
    "         \"strike\":[0 for strk in range(layers)],\n",
    "         \"plunge\":[0 for plng in range(layers)],\n",
    "         \"trend\":[0 for trnd in range(layers)],\n",
    "         \"ani\":[0 for ani in range(layers)],\n",
    "         }\n",
    "\n",
    "model[\"thickn\"][0] = 35000\n",
    "model[\"thickn\"][1] = 6500\n",
    "\n",
    "data_pred = predict(geom, model)\n"
   ]
  },
  {
   "cell_type": "code",
   "execution_count": 1089,
   "metadata": {},
   "outputs": [],
   "source": [
    "# plt.imshow(data_pred, aspect='auto')\n",
    "# plt.colorbar()\n",
    "# plt.show()\n",
    "# plt.imshow(data_real, aspect='auto',cmap='viridis')\n",
    "# plt.colorbar()\n",
    "# plt.show()"
   ]
  },
  {
   "cell_type": "code",
   "execution_count": 1090,
   "metadata": {},
   "outputs": [],
   "source": [
    "obs = data_real\n",
    "theta = [33000, 11000]\n",
    "cost_val = cost_func(theta, model, geom, obs)\n",
    "bounds = [(model[\"thickn\"][0] - 5000, model[\"thickn\"][0] + 5000),\n",
    "          (model[\"thickn\"][1] - 5000, model[\"thickn\"][1] + 5000)]\n",
    " "
   ]
  },
  {
   "cell_type": "code",
   "execution_count": 1091,
   "metadata": {},
   "outputs": [
    {
     "name": "stdout",
     "output_type": "stream",
     "text": [
      " WARNING: Thickness of layer was negative.\n",
      "          Set to 0.\n",
      " WARNING: Thickness of layer was negative.\n",
      "          Set to 0.\n",
      " WARNING: Thickness of layer was negative.\n",
      "          Set to 0.\n",
      " WARNING: Thickness of layer was negative.\n",
      "          Set to 0.\n",
      " WARNING: Thickness of layer was negative.\n",
      "          Set to 0.\n",
      " WARNING: Thickness of layer was negative.\n",
      "          Set to 0.\n",
      " WARNING: Thickness of layer was negative.\n",
      "          Set to 0.\n",
      " WARNING: Thickness of layer was negative.\n",
      "          Set to 0.\n",
      " WARNING: Thickness of layer was negative.\n",
      "          Set to 0.\n",
      " WARNING: Thickness of layer was negative.\n",
      "          Set to 0.\n",
      " WARNING: Thickness of layer was negative.\n",
      "          Set to 0.\n",
      " WARNING: Thickness of layer was negative.\n",
      "          Set to 0.\n",
      " WARNING: Thickness of layer was negative.\n",
      "          Set to 0.\n",
      " WARNING: Thickness of layer was negative.\n",
      "          Set to 0.\n",
      " WARNING: Thickness of layer was negative.\n",
      "          Set to 0.\n",
      " WARNING: Thickness of layer was negative.\n",
      "          Set to 0.\n",
      " WARNING: Thickness of layer was negative.\n",
      "          Set to 0.\n",
      " WARNING: Thickness of layer was negative.\n",
      "          Set to 0.\n",
      " WARNING: Thickness of layer was negative.\n",
      "          Set to 0.\n",
      " WARNING: Thickness of layer was negative.\n",
      "          Set to 0.\n",
      " WARNING: Thickness of layer was negative.\n",
      "          Set to 0.\n",
      " WARNING: Thickness of layer was negative.\n",
      "          Set to 0.\n",
      " WARNING: Thickness of layer was negative.\n",
      "          Set to 0.\n",
      " WARNING: Thickness of layer was negative.\n",
      "          Set to 0.\n",
      " WARNING: Thickness of layer was negative.\n",
      "          Set to 0.\n",
      " WARNING: Thickness of layer was negative.\n",
      "          Set to 0.\n",
      " WARNING: Thickness of layer was negative.\n",
      "          Set to 0.\n",
      " WARNING: Thickness of layer was negative.\n",
      "          Set to 0.\n",
      " WARNING: Thickness of layer was negative.\n",
      "          Set to 0.\n",
      " WARNING: Thickness of layer was negative.\n",
      "          Set to 0.\n",
      " WARNING: Thickness of layer was negative.\n",
      "          Set to 0.\n",
      " WARNING: Thickness of layer was negative.\n",
      "          Set to 0.\n",
      " WARNING: Thickness of layer was negative.\n",
      "          Set to 0.\n",
      " WARNING: Thickness of layer was negative.\n",
      "          Set to 0.\n",
      " WARNING: Thickness of layer was negative.\n",
      "          Set to 0.\n"
     ]
    }
   ],
   "source": [
    "results = dual_annealing(cost_func,\n",
    "                         bounds,\n",
    "                         args=(model, geom, data_real),\n",
    "                         maxiter=20,\n",
    "                         seed=42)"
   ]
  },
  {
   "cell_type": "code",
   "execution_count": 1092,
   "metadata": {},
   "outputs": [
    {
     "data": {
      "text/plain": [
       " message: ['Maximum number of iteration reached']\n",
       " success: True\n",
       "  status: 0\n",
       "     fun: 40.56605832076718\n",
       "       x: [ 3.175e+04  5.607e+03]\n",
       "     nit: 20\n",
       "    nfev: 84\n",
       "    njev: 1\n",
       "    nhev: 0"
      ]
     },
     "execution_count": 1092,
     "metadata": {},
     "output_type": "execute_result"
    }
   ],
   "source": [
    "results"
   ]
  },
  {
   "cell_type": "code",
   "execution_count": 1098,
   "metadata": {},
   "outputs": [
    {
     "data": {
      "image/png": "[encoded data removed]",
      "text/plain": [
       "<Figure size 640x480 with 1 Axes>"
      ]
     },
     "metadata": {},
     "output_type": "display_data"
    }
   ],
   "source": [
    "wave_num = 30\n",
    "data_pred = predict(geom, model)\n",
    "time = np.linspace(0, 0.2*2*426, data_pred.shape[1])\n",
    "time_shift = time + 0.\n",
    "plt.plot(time, data_pred[wave_num,:], 'r', label=\"Predicted\")\n",
    "plt.plot(time_shift,data_real[wave_num,:], 'black', linewidth=0.6, label=\"Real\")\n",
    "plt.legend()\n",
    "plt.show()\n"
   ]
  },
  {
   "cell_type": "code",
   "execution_count": null,
   "metadata": {},
   "outputs": [],
   "source": []
  }
 ],
 "metadata": {
  "kernelspec": {
   "display_name": "prs",
   "language": "python",
   "name": "python3"
  },
  "language_info": {
   "codemirror_mode": {
    "name": "ipython",
    "version": 3
   },
   "file_extension": ".py",
   "mimetype": "text/x-python",
   "name": "python",
   "nbconvert_exporter": "python",
   "pygments_lexer": "ipython3",
   "version": "3.10.13"
  }
 },
 "nbformat": 4,
 "nbformat_minor": 2
}
